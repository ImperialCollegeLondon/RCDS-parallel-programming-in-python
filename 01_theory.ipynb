{
 "cells": [
  {
   "cell_type": "markdown",
   "metadata": {},
   "source": [
    "# Parallel Programming - Theory\n",
    "\n",
    "We'll begin with a little theory about parallel programming. This section will be short so we can get into actually writing some code as soon as possible. We'll introduce more theory throughout the course as well."
   ]
  },
  {
   "cell_type": "markdown",
   "metadata": {},
   "source": [
    "## Introduction\n",
    "\n",
    "Most code you have written up to this point will have been sequential. This means that the code is executed one line at a time. For many problems, this is a completely adequate way to write code. However, some problems can be solved more efficiently by executing multiple lines of code at the same time. \n",
    "\n",
    "We can achieve this because modern Central Processing Units (CPUs) have multiple cores, which can each execute different calculations at the same time. In principle, if we have the same number of calculations to do but can use parallel programming to do multiple calculations at the same time, we can reduce the time it takes to do all the calculations. This is the motivation to write parallel code."
   ]
  },
  {
   "cell_type": "markdown",
   "metadata": {},
   "source": [
    "## Concurrency vs Parallelism\n",
    "\n",
    "Sometimes, you will hear the word \"concurrency\" used when talking about parallel computing. Concurrency and parallelism are related but different concepts.\n",
    "\n",
    "Concurrency is when multiple tasks are in the process of being worked on at the same time. This can be achieved by interleaving the execution of tasks. For example, if you have a computer with a single core, you can still have multiple tasks running concurrently by switching between them. This is called context switching.\n",
    "\n",
    "Parallel computing is when multiple tasks are being executed at the same time. This can be achieved by having multiple cores, each executing a different task. All parallel tasks are concurrent, but not all concurrent tasks are parallel.\n",
    "\n",
    "<p align=\"center\">\n",
    "<img src=\"resources/serial_concurrent_parallel.png\" alt=\"A figure showing the difference between serial, concurrent and parallel execution\" class=\"center\" style=\"width:100%;\">\n",
    "</p>\n",
    "\n",
    "We would like our code to execute in parallel in most cases, as in most cases concurrent non-parallel tasks will take as long or longer to complete than if we were just carrying out the tasks sequentially. We'll see later how ensuring parallel execution can be more difficult to achieve than concurrent execution."
   ]
  }
 ],
 "metadata": {
  "language_info": {
   "name": "python"
  }
 },
 "nbformat": 4,
 "nbformat_minor": 2
}
