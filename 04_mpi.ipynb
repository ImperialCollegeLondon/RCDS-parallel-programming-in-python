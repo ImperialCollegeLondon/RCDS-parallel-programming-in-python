{
 "cells": [
  {
   "cell_type": "markdown",
   "metadata": {},
   "source": [
    "# MPI\n",
    "\n",
    "MPI (Message Passing Interface) is a standard for writing parallel programs that can run on a distributed memory system. It is widely used in the HPC (High Performance Computing) community. There are implementations of MPI for many programming languages, including C, C++, Fortran, and Python. Much of the functionality and many of the commands we will see here will be similar in other languages. \n",
    "\n",
    "There are multiple implementations of MPI, including OpenMPI, MPICH, and Intel MPI. If you are running this notebook in a Github Codespace, MPICH will already be installed. If you want to install MPICH on your local system you can follow the instructions [here](https://www.mpich.org/downloads/).\n",
    "\n",
    "We will also be using the `mpi4py` package which is a Python wrapper for MPI. This is already installed if you'r running this notebook in a GitHUb Codespace, or you can install it locally using pip:\n",
    "\n",
    "```bash\n",
    "pip install mpi4py\n",
    "```\n",
    "\n",
    "Unlike the other methods we have seen so far, we run MPI from the terminal using the `mpiexec` command. We can run a Python script named `python_script.py` using MPI like this:\n",
    "\n",
    "```bash\n",
    "mpiexec -n 4 python python_script.py\n",
    "```\n",
    "In this command, the `-n 4` flag tells MPI to run the script using 4 processes. The text `python python_script.py` tells which command MPI should be running on each process. This will run the script 4 times in parallel."
   ]
  },
  {
   "cell_type": "markdown",
   "metadata": {},
   "source": [
    "## Ranks\n",
    "\n",
    "Each copy of the code will be executed on its own process and will be identified by its \"rank\". The rank is a unique integer identifier for each process which can be accessed using the `mpi4py.MPI.COMM_WORLD.Get_rank()` function. The code below shows how to access the rank:\n",
    "\n",
    "```python\n",
    "import mpi4py.MPI as MPI\n",
    "\n",
    "# Get a reference to the current MPI.COMM_WORLD communicator\n",
    "comm = MPI.COMM_WORLD\n",
    "\n",
    "# Get the rank of the current process\n",
    "rank = comm.Get_rank()\n",
    "\n",
    "# Print the rank of the current process\n",
    "print(f'This script is being run by Rank {rank}')\n",
    "```\n",
    "\n",
    "This code can be found in the file `04_mpi_scripts/get_rank.py`. To run this command we will need to change directory in the terminal using the command:\n",
    "\n",
    "```bash\n",
    "cd 04_mpi_scripts\n",
    "```\n",
    "\n",
    "and run the script using MPI using the command:\n",
    "\n",
    "```bash\n",
    "mpiexec -n 4 python 04_mpi_scripts/get_rank.py\n",
    "```"
   ]
  },
  {
   "cell_type": "markdown",
   "metadata": {},
   "source": []
  }
 ],
 "metadata": {
  "language_info": {
   "name": "python"
  }
 },
 "nbformat": 4,
 "nbformat_minor": 2
}
