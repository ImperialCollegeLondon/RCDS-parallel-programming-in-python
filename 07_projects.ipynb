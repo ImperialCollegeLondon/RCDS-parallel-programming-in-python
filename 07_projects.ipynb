{
 "cells": [
  {
   "cell_type": "markdown",
   "metadata": {},
   "source": [
    "# Projects\n",
    "\n",
    "Now you've had some time to learn how to use a variety of different parallel programming tools, it's time to try them out a larger, more realistic set of problems. This notebook contains a set of projects which can be tackled in any order, designed to let you practice what you've learned. You should complete each project in a file in the `projects` directory. This directory contains code to get you started on several projects, some data to read into your projects, and the directory `projects/sample_solutions` which contains sample solutions to the projects. \n",
    "\n",
    "You may use `threading`, `multiprocessing` or `mpi4py` packages for these projects as you wish. There's more than one reasonable way to solve each project so, if your solution is different to the sample solution, consider the differences between them, and try to be critical about the advantages and disadvantages of each.\n",
    "\n",
    "Tackle these projects in any order you like. You may want to prioritise ones which use the tools you're interested in, or ones which are closer to topics you know or the area where you intend to use parallel programming. "
   ]
  },
  {
   "cell_type": "markdown",
   "metadata": {},
   "source": [
    "## Counting Word Occurences in Essays\n",
    "\n",
    "The folder `data/07_essays` contains 1000 essays in the files `essay_000.txt` to `essay_999.txt`. Your task is to write a piece of code which reads all of the essays and returns a dictionary detailing how many times a word occurs across all essays. The dictionary should be sorted such that the most common word appears first. The first few entries of this dictionary should be:\n",
    "\n",
    "```\n",
    "    {'and': 26998, 'parallel': 16819, 'in': 15360, 'to': 15359, ... }\n",
    "```\n",
    "\n",
    "The file [`07_projects/essay_word_counter.py`](07_projects/essay_word_counter.py) contains a few functions you may find helpful:\n",
    "\n",
    "* `count_word_occurences_in_file`: This function reads a file and returns a dictionary of words and how often each occurs in that file.\n",
    "* `sort_dict_by_value`: This function takes a dictionary and sorts it so that the key-value pair with the highest value is first.\n",
    "* `form_filepath`: Receives a value and returns the path to the essay file with that value, relative to the root directory of this repository.\n",
    "* `add_dictionaries`: This function takes two dictionaries and returns a new dictionary where the keys are taken from each dictionary and the values are the sum of the reelvant values in the input dictionaries.\n",
    "\n",
    "The file also contains a sample piece of code which reads two essays, counts the word occurences in each, adds the dictionaries together, and sorts the resulting dictionary. You may find this as a helpful starting point for your parallel code which should read all 1000 essays.\n",
    "\n",
    "The file [`sample_solutions/essay_word_counter.py`](sample_solutions/essay_word_counter.py) contains a sample solution to this project."
   ]
  },
  {
   "cell_type": "markdown",
   "metadata": {},
   "source": []
  }
 ],
 "metadata": {
  "language_info": {
   "name": "python"
  }
 },
 "nbformat": 4,
 "nbformat_minor": 2
}
