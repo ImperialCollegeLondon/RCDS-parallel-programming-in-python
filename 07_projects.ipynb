{
 "cells": [
  {
   "cell_type": "markdown",
   "metadata": {},
   "source": [
    "# Projects\n",
    "\n",
    "Now you've had some time to learn how to use a variety of different parallel programming tools, it's time to try them out a larger, more realistic set of problems. This notebook contains a set of projects which can be tackled in any order, designed to let you practice what you've learned. You should complete each project in a file in the `projects` directory. This directory contains code to get you started on several projects, some data to read into your projects, and the directory `projects/sample_solutions` which contains sample solutions to the projects. \n",
    "\n",
    "You may use `threading`, `multiprocessing` or `mpi4py` packages for these projects as you wish. There's more than one reasonable way to solve each project so, if your solution is different to the sample solution, consider the differences between them, and try to be critical about the advantages and disadvantages of each.\n",
    "\n",
    "Tackle these projects in any order you like. You may want to prioritise ones which use the tools you're interested in, or ones which are closer to topics you know or the area where you intend to use parallel programming. "
   ]
  },
  {
   "cell_type": "markdown",
   "metadata": {},
   "source": [
    "## Counting Word Occurences in Essays\n",
    "\n",
    "The folder `data/07_essays` contains 1000 essays in the files `essay_000.txt` to `essay_999.txt`. Your task is to write a piece of code which reads all of the essays and returns a dictionary detailing how many times a word occurs across all essays. The dictionary should be sorted such that the most common word appears first. The first few entries of this dictionary should be:\n",
    "\n",
    "```\n",
    "    {'and': 26998, 'parallel': 16819, 'in': 15360, 'to': 15359, ... }\n",
    "```\n",
    "\n",
    "The file [`07_projects/essay_word_counter.py`](07_projects/essay_word_counter.py) contains a few functions you may find helpful:\n",
    "\n",
    "* `count_word_occurences_in_file`: This function reads a file and returns a dictionary of words and how often each occurs in that file.\n",
    "* `sort_dict_by_value`: This function takes a dictionary and sorts it so that the key-value pair with the highest value is first.\n",
    "* `form_filepath`: Receives a value and returns the path to the essay file with that value, relative to the root directory of this repository.\n",
    "* `add_dictionaries`: This function takes two dictionaries and returns a new dictionary where the keys are taken from each dictionary and the values are the sum of the reelvant values in the input dictionaries.\n",
    "\n",
    "The file also contains a sample piece of code which reads two essays, counts the word occurences in each, adds the dictionaries together, and sorts the resulting dictionary. You may find this as a helpful starting point for your parallel code which should read all 1000 essays.\n",
    "\n",
    "The file [`sample_solutions/essay_word_counter.py`](sample_solutions/essay_word_counter.py) contains a sample solution to this project."
   ]
  },
  {
   "cell_type": "markdown",
   "metadata": {},
   "source": [
    "## Travelling Salesman\n",
    "\n",
    "The travelling salesman problem is a classic problem in computer science. The problem is as follows: given a list of cities and the distances between each pair of cities, what is the shortest possible route that visits each city exactly once and returns to the origin city? The number of possible routes scales with the factorial of the number of cities, so this problem can be very computationally expensive for large numbers of cities.\n",
    "\n",
    "Your task is to write a piece of code which reads a list of cities and the distances between them, and returns the shortest possible route that visits each city exactly once and returns to the origin city. You should do this by considering each possible route, finding the distance of each route, and returning the shortest one. For example, if we consider the three cities A, B, and C, the possible routes are:\n",
    "\n",
    "* A, B, C, A\n",
    "* A, C, B, A\n",
    "* B, A, C, B\n",
    "* B, C, A, B\n",
    "* C, A, B, C\n",
    "* C, B, A, C\n",
    "\n",
    "These can be though of as the [permutations](https://en.wikipedia.org/wiki/Permutation) of the list of cities (with the first and last city being the same). The file [`07_projects/travelling_salesman.py`](07_projects/travelling_salesman.py) contains a few functions you may find helpful:\n",
    "\n",
    "* `get_permutation`: This function takes a list and returns the $k^{\\text{th}}$ permutation of that list. A list of length $n$ will have $n!$ perumations. $k$ is zero for the first permutation and $n! - 1$ for the last permutation, where $n$ is the length of the list.\n",
    "* `get_city_distances`: This functionr reads data from a filepath (`data/city_distances.csv` by default) and returns a 2D Numpy array where the $i^{\\text{th}}$ row and $j^{\\text{th}}$ column is the distance between the $i^{\\text{th}}$ and $j^{\\text{th}}$ cities.\n",
    "\n",
    "Your code should print a message describing the shortest route between cities and the distance of that route. Note that cyclic permutations and reversals of the same route are essentailly the same route. So, if A, B, D, C, A is the shortest route B, D, C, A, D and A, C, D, B, A (amongst others) will have the same distance. Returning any of these routes would be acceptable.\n",
    "\n",
    "As there are a large number of permutations to consider, you should parallelise your code to split the consideration of permutations between multiple processes/threads.\n",
    "\n",
    "The file [`sample_solutions/travelling_salesman.py`](sample_solutions/travelling_salesman.py) contains a sample solution to this project."
   ]
  },
  {
   "cell_type": "markdown",
   "metadata": {},
   "source": []
  }
 ],
 "metadata": {
  "language_info": {
   "name": "python"
  }
 },
 "nbformat": 4,
 "nbformat_minor": 2
}
