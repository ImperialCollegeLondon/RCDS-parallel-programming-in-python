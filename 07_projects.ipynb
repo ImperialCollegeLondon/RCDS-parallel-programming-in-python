{
 "cells": [
  {
   "cell_type": "markdown",
   "metadata": {},
   "source": [
    "# Projects\n",
    "\n",
    "Now you've had some time to learn how to use a variety of different parallel programming tools, it's time to try them out a larger, more realistic set of problems. This notebook contains a set of projects which can be tackled in any order, designed to let you practice what you've learned. You should complete each project in a file in the `projects` directory. This directory contains code to get you started on several projects, some data to read into your projects, and the directory `projects/sample_solutions` which contains sample solutions to the projects. \n",
    "\n",
    "You may use `threading`, `multiprocessing` or `mpi4py` packages for these projects as you wish. There's more than one reasonable way to solve each project so, if your solution is different to the sample solution, consider the differences between them, and try to be critical about the advantages and disadvantages of each.\n",
    "\n",
    "Tackle these projects in any order you like. You may want to prioritise ones which use the tools you're interested in, or ones which are closer to topics you know or the area where you intend to use parallel programming. "
   ]
  },
  {
   "cell_type": "markdown",
   "metadata": {},
   "source": []
  }
 ],
 "metadata": {
  "language_info": {
   "name": "python"
  }
 },
 "nbformat": 4,
 "nbformat_minor": 2
}
