{
 "cells": [
  {
   "cell_type": "markdown",
   "metadata": {},
   "source": [
    "# Projects\n",
    "\n",
    "Now you've had some time to learn how to use a variety of different parallel programming tools, it's time to try them out a larger, more realistic set of problems. This notebook contains a set of projects which can be tackled in any order, designed to let you practice what you've learned. You should complete each project in a file in the `projects` directory. This directory contains code to get you started on several projects, some data to read into your projects, and the directory `projects/sample_solutions` which contains sample solutions to the projects. \n",
    "\n",
    "You may use `threading`, `multiprocessing` or `mpi4py` packages for these projects as you wish. There's more than one reasonable way to solve each project so, if your solution is different to the sample solution, consider the differences between them, and try to be critical about the advantages and disadvantages of each.\n",
    "\n",
    "Tackle these projects in any order you like. You may want to prioritise ones which use the tools you're interested in, or ones which are closer to topics you know or the area where you intend to use parallel programming. "
   ]
  },
  {
   "cell_type": "markdown",
   "metadata": {},
   "source": [
    "## Counting Word Occurences in Essays\n",
    "\n",
    "The folder `data/07_essays` contains 1000 essays in the files `essay_000.txt` to `essay_999.txt`. Your task is to write a piece of code which reads all of the essays and returns a dictionary detailing how many times a word occurs across all essays. The dictionary should be sorted such that the most common word appears first. The first few entries of this dictionary should be:\n",
    "\n",
    "```\n",
    "    {'and': 26998, 'parallel': 16819, 'in': 15360, 'to': 15359, ... }\n",
    "```\n",
    "\n",
    "The file [`07_projects/essay_word_counter.py`](07_projects/essay_word_counter.py) contains a few functions you may find helpful:\n",
    "\n",
    "* `count_word_occurences_in_file`: This function reads a file and returns a dictionary of words and how often each occurs in that file.\n",
    "* `sort_dict_by_value`: This function takes a dictionary and sorts it so that the key-value pair with the highest value is first.\n",
    "* `form_filepath`: Receives a value and returns the path to the essay file with that value, relative to the root directory of this repository.\n",
    "* `add_dictionaries`: This function takes two dictionaries and returns a new dictionary where the keys are taken from each dictionary and the values are the sum of the reelvant values in the input dictionaries.\n",
    "\n",
    "The file also contains a sample piece of code which reads two essays, counts the word occurences in each, adds the dictionaries together, and sorts the resulting dictionary. You may find this as a helpful starting point for your parallel code which should read all 1000 essays.\n",
    "\n",
    "The file [`sample_solutions/essay_word_counter.py`](sample_solutions/essay_word_counter.py) contains a sample solution to this project."
   ]
  },
  {
   "cell_type": "markdown",
   "metadata": {},
   "source": [
    "## Travelling Salesman\n",
    "\n",
    "The travelling salesman problem is a classic problem in computer science. The problem is as follows: given a list of cities and the distances between each pair of cities, what is the shortest possible route that visits each city exactly once and returns to the origin city? The number of possible routes scales with the factorial of the number of cities, so this problem can be very computationally expensive for large numbers of cities.\n",
    "\n",
    "Your task is to write a piece of code which reads a list of cities and the distances between them, and returns the shortest possible route that visits each city exactly once and returns to the origin city. You should do this by considering each possible route, finding the distance of each route, and returning the shortest one. For example, if we consider the three cities A, B, and C, the possible routes are:\n",
    "\n",
    "* A, B, C, A\n",
    "* A, C, B, A\n",
    "* B, A, C, B\n",
    "* B, C, A, B\n",
    "* C, A, B, C\n",
    "* C, B, A, C\n",
    "\n",
    "These can be though of as the [permutations](https://en.wikipedia.org/wiki/Permutation) of the list of cities (with the first and last city being the same). The file [`07_projects/travelling_salesman.py`](07_projects/travelling_salesman.py) contains a few functions you may find helpful:\n",
    "\n",
    "* `get_permutation`: This function takes a list and returns the $k^{\\text{th}}$ permutation of that list. A list of length $n$ will have $n!$ perumations. $k$ is zero for the first permutation and $n! - 1$ for the last permutation, where $n$ is the length of the list.\n",
    "* `get_city_distances`: This functionr reads data from a filepath (`data/city_distances.csv` by default) and returns a 2D Numpy array where the $i^{\\text{th}}$ row and $j^{\\text{th}}$ column is the distance between the $i^{\\text{th}}$ and $j^{\\text{th}}$ cities.\n",
    "\n",
    "Your code should print a message describing the shortest route between cities and the distance of that route. Note that cyclic permutations and reversals of the same route are essentailly the same route. So, if A, B, D, C, A is the shortest route B, D, C, A, D and A, C, D, B, A (amongst others) will have the same distance. Returning any of these routes would be acceptable.\n",
    "\n",
    "As there are a large number of permutations to consider, you should parallelise your code to split the consideration of permutations between multiple processes/threads.\n",
    "\n",
    "The file [`sample_solutions/travelling_salesman.py`](sample_solutions/travelling_salesman.py) contains a sample solution to this project. The shortest route for this problem is Birmingham, Stoke-on-Trent, Manchester, Liverpool, Glasgow, Leeds, Sheffield, Leicester, Bristol, Cardiff, Birmingham with a distance of 1489km."
   ]
  },
  {
   "cell_type": "markdown",
   "metadata": {},
   "source": [
    "## Exploding Dice\n",
    "\n",
    "Some boardgames contain a rule known as \"exploding dice\". In this rule, if a player rolls the maximum value on a die (e.g. a 6 on a 6-sided die), they may roll the die again and add the new roll to the previous roll. This can continue indefinitely, with the player adding the new roll to the previous total each time they roll the maximum value. For example, if a player rolls a 6-sided dice and rolls a 6 they would roll again. Id they roll another 6 they would roll again. If the third roll is a 4, they would stop and the total roll would be 6 + 6 + 4 = 16.\n",
    "\n",
    "Your task is to write a piece of code which simulates this rule and obtain some statistics on the results. You should simulate 100,000,0000 rolls of a 6-sided die and calculate the mean, standard deviation, and the probability that a total value greater than 20 was generated. The equation for the mean $\\bar{x}$ and standard deviation $\\bar{\\sigma}$ of the sum of $N$ rolls of a die is:\n",
    "\n",
    "$$\n",
    "\\bar{x} = \\frac{1}{N}\\sum\\limits_{i=1}^{N} x_{i}\\\\\n",
    "\\sigma = \\sqrt{\\left(\\frac{1}{N}\\sum\\limits_{i=1}^{N}x_{i}^{2}\\right) - \\bar{x}^{2}}\n",
    "$$\n",
    "\n",
    "where $x_{i}$ is the value of the $i^{\\text{th}}$ roll of the die.\n",
    "\n",
    "This project invites you to consider how to build the code from scratch, and how to parallelise it. You may find the `random` module helpful for generating random numbers. A sample solution to this project can be found in the file [`sample_solutions/exploding_dice.py`](sample_solutions/exploding_dice.py).\n",
    "\n",
    "The values you should expect to see are:\n",
    "* Mean: 4.2\n",
    "* Standard deviation: aprroximately 3.26\n",
    "* Probability of a total value greater than 20: approximately 0.00308"
   ]
  },
  {
   "cell_type": "markdown",
   "metadata": {},
   "source": [
    "## Peak Temperature\n",
    "\n",
    "Consider the case of a metal rod whose ends are held at a constant temeprature, but the rest of the rod is heated. Enetually, the rod will reach a steady state where the rod will be warmest in the middle and heat will dissipate to the ends of the rods through thermal conduction. The rate at which this happens will be governed by the thermal diffusivity of the rod. This will in turn determine the temperature profile of the rod, including the peak temeprature of a rod.\n",
    "\n",
    "In this exercise we'll assume that we're uncertain about the thermal diffusivity of the rod, and we want to estimate the effect this uncertainty has on the peak temperature of the rod. We'll assume that the ends of the rod are held at 300K, the heating rate is 10K/s, the rod length is 10m. We'll assume that the probability density function for the uncertai thermal diffusivity is uniformly distributed between 0.9 $\\text{m}^{2}\\text{s}^{-1}$ and 1.1 $\\text{m}^{2}\\text{s}^{-1}$ .\n",
    "\n",
    "As an output, we would like a histogram which shows the probability density function of the maxmimum temperature of the rod. You should simulate 100,000 runs of the simulation (in parallel using a method of your choosing) and calculate the peak temperature of the rod for each run. You should then plot a histogram of the peak temperatures. You may find the `random` module helpful for generating random numbers. The file [`07_projects/heated_rod.py`](07_projects/heated_rod.py) contains a few functions you may find helpful:\n",
    "* `get_peak_temperature`: This function takes the thermal diffusivity of the rod and other properties and returns the peak temperature of the rod.\n",
    "* `plot_histogram`: This function takes a list of values and plots a histogram of those values, saving the results to `outputs/peak_temperature_histogram.png`.\n",
    "\n",
    "The final result should look something like the following:\n",
    "\n",
    "![Histogram of peak temperatures](outputs/peak_temperature_histogram.png)"
   ]
  },
  {
   "cell_type": "markdown",
   "metadata": {},
   "source": []
  }
 ],
 "metadata": {
  "language_info": {
   "name": "python"
  }
 },
 "nbformat": 4,
 "nbformat_minor": 2
}
