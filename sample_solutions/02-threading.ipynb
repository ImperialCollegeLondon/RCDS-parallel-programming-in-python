{
 "cells": [
  {
   "cell_type": "markdown",
   "metadata": {},
   "source": [
    "# Sum of Squares\n",
    "\n",
    "Below is a sample solution to calculate the sum of the squares of the first 1,000,000 numbers using two threads:"
   ]
  },
  {
   "cell_type": "code",
   "execution_count": null,
   "metadata": {},
   "outputs": [
    {
     "name": "stdout",
     "output_type": "stream",
     "text": [
      "333333833333500000\n"
     ]
    }
   ],
   "source": [
    "# Import the threading library\n",
    "import threading\n",
    "\n",
    "# Create a list to hold the results of the two threads\n",
    "# Each entry will be the sum of the squares calculated by each thread\n",
    "results = [0, 0]\n",
    "\n",
    "def sum_of_squares(first, last, results, thread_number):\n",
    "    # A function which calculates the sum of the squares from first to last (inclusive)\n",
    "    # Saves the results into results[thread_number]\n",
    "    for i in range(first, last + 1):\n",
    "        results[thread_number] += i ** 2\n",
    "\n",
    "# Create a list to hold the threads\n",
    "threads = []\n",
    "\n",
    "# Create two threads, each calculating the sum of the squares of half of the numbers\n",
    "for i in range(2):\n",
    "    # Create a thread\n",
    "    # Pass arguments to sum_of_squares using the args parameter\n",
    "    t = threading.Thread(target=sum_of_squares, args=(1 + i * 500000, 500000 + i * 500000, results, i))\n",
    "    # Start each threads\n",
    "    t.start()\n",
    "    # Add the thread to the list of threads\n",
    "    threads.append(t)\n",
    "\n",
    "# Wait for all threads to finish\n",
    "for t in threads:\n",
    "    t.join()\n",
    "\n",
    "# Sum the results of the two threads\n",
    "final_result = sum(results)\n",
    "\n",
    "# Print the final result\n",
    "print(final_result)"
   ]
  },
  {
   "cell_type": "markdown",
   "metadata": {},
   "source": [
    "# Cumulative Distribution Function\n",
    "\n",
    "Note that in this sample solution the filepaths have been altered so the correct data files can be found."
   ]
  },
  {
   "cell_type": "code",
   "execution_count": 7,
   "metadata": {},
   "outputs": [
    {
     "name": "stdout",
     "output_type": "stream",
     "text": [
      "Single-thread time taken: 0.8118045330047607\n",
      "6\n",
      "16\n",
      "Multi-thread time taken: 0.942133903503418\n"
     ]
    },
    {
     "data": {
      "image/png": "[encoded data removed]",
      "text/plain": [
       "<Figure size 640x480 with 1 Axes>"
      ]
     },
     "metadata": {},
     "output_type": "display_data"
    }
   ],
   "source": [
    "import threading\n",
    "import numpy as np\n",
    "import matplotlib.pyplot as plt\n",
    "import time\n",
    "\n",
    "# These are thresholds for the CDF\n",
    "# Use them in your code\n",
    "thresholds = np.linspace(4, 16, 121)\n",
    "\n",
    "\n",
    "# SINGLE-THREAD VERSION\n",
    "start_time = time.time()\n",
    "# Load the files into a number of numpy arrays within a list\n",
    "data_list = [np.loadtxt(f'../data/threading_{i}.txt') for i in range(10)]\n",
    "\n",
    "# Concatenate the arrays in the list into a single array\n",
    "data = np.concatenate(data_list)\n",
    "\n",
    "# Create an array to hold the CDF\n",
    "cdf = np.zeros_like(thresholds)\n",
    "\n",
    "# Loop over the thresholds, counting the number of values below each threshold\n",
    "for i, threshold in enumerate(thresholds):\n",
    "    cdf[i] = np.sum(data < threshold)\n",
    "\n",
    "# Divide by the number of values to get the CDF\n",
    "cdf = cdf / len(data)\n",
    "\n",
    "print(f'Single-thread time taken: {time.time() - start_time}')\n",
    "\n",
    "# MULTI-THREAD VERSION\n",
    "start_time = time.time()\n",
    "\n",
    "# This function will be run by each thread\n",
    "def get_cdf_from_file(filepath, results):\n",
    "    # This function loads data from a file and calculates the CDF\n",
    "    # The CDF is saved to the numpy array results\n",
    "\n",
    "    # Load the data from the file\n",
    "    data = np.loadtxt(filepath)\n",
    "\n",
    "    # Loop over the thresholds\n",
    "    for i, threshold in enumerate(thresholds):\n",
    "        # Count the number of values below the threshold\n",
    "        # Divide by the number of values to get the CDF\n",
    "        results[i] = np.sum(data < threshold) / len(data)\n",
    "\n",
    "# Create a list to hold the threads\n",
    "threads = []\n",
    "# Create a list to hold the results from each thread\n",
    "cdfs = [np.zeros_like(thresholds) for i in range(10)]\n",
    "\n",
    "# Loop over the 10 files\n",
    "for i in range(10):\n",
    "    # For each file create a thread to calculate the CDF for the data in that file\n",
    "    t = threading.Thread(target=get_cdf_from_file, args=(f'../data/threading_{i}.txt', cdfs[i]))\n",
    "    # Start the thread\n",
    "    t.start()\n",
    "    # Add the thread to the list of threads\n",
    "    threads.append(t)\n",
    "\n",
    "# Wait for all threads to finish\n",
    "for t in threads:\n",
    "    t.join()\n",
    "\n",
    "# Sum all the CDFs\n",
    "# Divide by 10 to normalise the CDF\n",
    "cdf = np.sum(cdfs, axis=0) / 10\n",
    "\n",
    "print(f'Multi-thread time taken: {time.time() - start_time}')\n",
    "\n",
    "# Plot the CDF\n",
    "plt.plot(thresholds, cdf);"
   ]
  },
  {
   "cell_type": "code",
   "execution_count": null,
   "metadata": {},
   "outputs": [],
   "source": []
  }
 ],
 "metadata": {
  "kernelspec": {
   "display_name": "Python 3",
   "language": "python",
   "name": "python3"
  },
  "language_info": {
   "codemirror_mode": {
    "name": "ipython",
    "version": 3
   },
   "file_extension": ".py",
   "mimetype": "text/x-python",
   "name": "python",
   "nbconvert_exporter": "python",
   "pygments_lexer": "ipython3",
   "version": "3.11.11"
  }
 },
 "nbformat": 4,
 "nbformat_minor": 2
}
